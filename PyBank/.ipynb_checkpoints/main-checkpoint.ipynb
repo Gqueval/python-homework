{
 "cells": [
  {
   "cell_type": "code",
   "execution_count": 6,
   "metadata": {},
   "outputs": [
    {
     "name": "stdout",
     "output_type": "stream",
     "text": [
      "Financial Analysis\n",
      "Total Months: 86\n",
      "Total: $ 86\n",
      "Average Change: $ 446309.0465116279\n",
      "Greatest Increase in Profits: Feb-2012 1926159\n",
      "Greatest Decrease in Profits: Sep-2013 -2196167\n"
     ]
    }
   ],
   "source": [
    "# Import the pathlib and csv library\n",
    "from pathlib import Path\n",
    "import csv\n",
    "import numpy\n",
    "import numpy_financial as npf\n",
    "\n",
    "# Set the file path\n",
    "csvpath = Path('Resources/budget_data.csv')\n",
    "\n",
    "#Initialize variables\n",
    "dates = []\n",
    "count = 0\n",
    "totals = []\n",
    "mysum = 0\n",
    "avg = 0\n",
    "change = []\n",
    "\n",
    "# Open csv file as object\n",
    "with open(csvpath, 'r') as csvfile:\n",
    "    csvreader = csv.reader(csvfile, delimiter = ',')\n",
    "    \n",
    "    # Skip header \n",
    "    next(csvreader)\n",
    "    \n",
    "    for row in csvreader:\n",
    "        date = row[0]\n",
    "        dates.append(date)\n",
    "        count = count + 1\n",
    "        \n",
    "        pl = int(row[1])\n",
    "        totals.append(pl)\n",
    "        mysum = mysum + 1\n",
    "        \n",
    "    change = numpy.array(totals)\n",
    "    a = numpy.diff(change)\n",
    "    avg = numpy.average(change)\n",
    "    \n",
    "    increase = max(a)\n",
    "    decrease = min(a)\n",
    "\n",
    "#Calcuate greatest increase\n",
    "for x in range(len(a)):\n",
    "    if a[x] == increase:\n",
    "        dateincrease = dates[x + 1]\n",
    "\n",
    "#Calculate greatest decrease       \n",
    "for x in range(len(a)):\n",
    "    if a[x] == decrease:\n",
    "        datedecrease = dates[x + 1]\n",
    "\n",
    "\n",
    "print('Financial Analysis')\n",
    "print(f'Total Months:', count)\n",
    "print(f'Total: $', mysum)\n",
    "print(f'Average Change: $', avg)\n",
    "print(f'Greatest Increase in Profits:', dateincrease, increase)\n",
    "print(f'Greatest Decrease in Profits:', datedecrease, decrease)\n",
    "\n",
    "\n",
    "    "
   ]
  },
  {
   "cell_type": "code",
   "execution_count": null,
   "metadata": {},
   "outputs": [],
   "source": []
  }
 ],
 "metadata": {
  "kernelspec": {
   "display_name": "Python 3",
   "language": "python",
   "name": "python3"
  },
  "language_info": {
   "codemirror_mode": {
    "name": "ipython",
    "version": 3
   },
   "file_extension": ".py",
   "mimetype": "text/x-python",
   "name": "python",
   "nbconvert_exporter": "python",
   "pygments_lexer": "ipython3",
   "version": "3.8.3"
  }
 },
 "nbformat": 4,
 "nbformat_minor": 4
}
